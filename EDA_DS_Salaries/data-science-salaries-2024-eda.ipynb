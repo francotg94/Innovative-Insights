{
 "cells": [
  {
   "cell_type": "markdown",
   "id": "e76c6cc3",
   "metadata": {
    "papermill": {
     "duration": 0.010302,
     "end_time": "2024-05-17T04:42:17.631975",
     "exception": false,
     "start_time": "2024-05-17T04:42:17.621673",
     "status": "completed"
    },
    "tags": []
   },
   "source": [
    "# Ingesting the Data\n",
    "In this section, we import the necessary libraries and load the dataset into a pandas DataFrame. This dataset contains information about data science salaries collected in 2024."
   ]
  },
  {
   "cell_type": "code",
   "execution_count": null,
   "id": "6ae5df07",
   "metadata": {
    "execution": {
     "iopub.execute_input": "2024-05-17T04:42:17.652811Z",
     "iopub.status.busy": "2024-05-17T04:42:17.652309Z",
     "iopub.status.idle": "2024-05-17T04:42:26.453052Z",
     "shell.execute_reply": "2024-05-17T04:42:26.450848Z"
    },
    "papermill": {
     "duration": 8.814616,
     "end_time": "2024-05-17T04:42:26.456200",
     "exception": false,
     "start_time": "2024-05-17T04:42:17.641584",
     "status": "completed"
    },
    "tags": []
   },
   "outputs": [],
   "source": [
    "import numpy as np\n",
    "import pandas as pd\n",
    "import matplotlib.pyplot as plt\n",
    "import seaborn as sns\n",
    "from ydata_profiling import ProfileReport\n",
    "import warnings\n",
    "warnings.filterwarnings(\"ignore\")\n",
    "\n",
    "# Load the dataset\n",
    "Data_Salary = pd.read_csv('/kaggle/input/machine-learning-engineer-salary-in-2024/salaries.csv')\n",
    "Data_Salary.head()"
   ]
  },
  {
   "cell_type": "markdown",
   "id": "8f034a1a",
   "metadata": {
    "papermill": {
     "duration": 0.009826,
     "end_time": "2024-05-17T04:42:26.475162",
     "exception": false,
     "start_time": "2024-05-17T04:42:26.465336",
     "status": "completed"
    },
    "tags": []
   },
   "source": [
    "# Performing a Profile Report\n",
    "We use the `ydata_profiling` library to generate a comprehensive profile report of the dataset. This report provides a quick overview of the data, including missing values, data types, and distribution of features."
   ]
  },
  {
   "cell_type": "code",
   "execution_count": null,
   "id": "e24ff1ab",
   "metadata": {
    "execution": {
     "iopub.execute_input": "2024-05-17T04:42:26.496738Z",
     "iopub.status.busy": "2024-05-17T04:42:26.496236Z",
     "iopub.status.idle": "2024-05-17T04:42:53.608913Z",
     "shell.execute_reply": "2024-05-17T04:42:53.606797Z"
    },
    "papermill": {
     "duration": 27.170023,
     "end_time": "2024-05-17T04:42:53.654129",
     "exception": false,
     "start_time": "2024-05-17T04:42:26.484106",
     "status": "completed"
    },
    "tags": []
   },
   "outputs": [],
   "source": [
    "report = ProfileReport(Data_Salary, title='Salary Report')\n",
    "report.to_notebook_iframe()"
   ]
  },
  {
   "cell_type": "markdown",
   "id": "96612970",
   "metadata": {
    "papermill": {
     "duration": 0.047095,
     "end_time": "2024-05-17T04:42:53.749722",
     "exception": false,
     "start_time": "2024-05-17T04:42:53.702627",
     "status": "completed"
    },
    "tags": []
   },
   "source": [
    "# Getting a Glimpse at the Dataset\n",
    "In this section, we display the first few rows of the dataset to understand its structure and contents. We also describe the dataset's features to understand what each column represents."
   ]
  },
  {
   "cell_type": "code",
   "execution_count": null,
   "id": "c394f1d5",
   "metadata": {
    "execution": {
     "iopub.execute_input": "2024-05-17T04:42:53.841545Z",
     "iopub.status.busy": "2024-05-17T04:42:53.840876Z",
     "iopub.status.idle": "2024-05-17T04:42:53.860077Z",
     "shell.execute_reply": "2024-05-17T04:42:53.859084Z"
    },
    "papermill": {
     "duration": 0.06666,
     "end_time": "2024-05-17T04:42:53.862386",
     "exception": false,
     "start_time": "2024-05-17T04:42:53.795726",
     "status": "completed"
    },
    "tags": []
   },
   "outputs": [],
   "source": [
    "Data_Salary.head()"
   ]
  },
  {
   "cell_type": "markdown",
   "id": "1ac3b924",
   "metadata": {
    "papermill": {
     "duration": 0.044009,
     "end_time": "2024-05-17T04:42:53.949150",
     "exception": false,
     "start_time": "2024-05-17T04:42:53.905141",
     "status": "completed"
    },
    "tags": []
   },
   "source": [
    "# Data Cleaning and Preparation\n",
    "Before proceeding with the analysis, we check for missing values and the data types of each column. This helps us identify any necessary data cleaning steps."
   ]
  },
  {
   "cell_type": "code",
   "execution_count": null,
   "id": "6652032f",
   "metadata": {
    "execution": {
     "iopub.execute_input": "2024-05-17T04:42:54.037942Z",
     "iopub.status.busy": "2024-05-17T04:42:54.037480Z",
     "iopub.status.idle": "2024-05-17T04:42:54.062910Z",
     "shell.execute_reply": "2024-05-17T04:42:54.061887Z"
    },
    "papermill": {
     "duration": 0.073688,
     "end_time": "2024-05-17T04:42:54.065639",
     "exception": false,
     "start_time": "2024-05-17T04:42:53.991951",
     "status": "completed"
    },
    "tags": []
   },
   "outputs": [],
   "source": [
    "# Checking for missing values\n",
    "missing_values = Data_Salary.isnull().sum()\n",
    "print(\"Missing values in each column:\")\n",
    "print(missing_values)\n",
    "\n",
    "# Getting data types of each column\n",
    "data_types = Data_Salary.dtypes\n",
    "print(\"\\nData types of each column:\")\n",
    "print(data_types)"
   ]
  },
  {
   "cell_type": "code",
   "execution_count": null,
   "id": "bac55522",
   "metadata": {
    "execution": {
     "iopub.execute_input": "2024-05-17T04:42:54.155969Z",
     "iopub.status.busy": "2024-05-17T04:42:54.154403Z",
     "iopub.status.idle": "2024-05-17T04:42:54.180034Z",
     "shell.execute_reply": "2024-05-17T04:42:54.178657Z"
    },
    "papermill": {
     "duration": 0.074783,
     "end_time": "2024-05-17T04:42:54.183718",
     "exception": false,
     "start_time": "2024-05-17T04:42:54.108935",
     "status": "completed"
    },
    "tags": []
   },
   "outputs": [],
   "source": [
    "# Basic statistics of the dataset\n",
    "basic_stats = Data_Salary.describe()\n",
    "print(\"\\nBasic statistics of the dataset:\")\n",
    "print(basic_stats)"
   ]
  },
  {
   "cell_type": "markdown",
   "id": "452e05c6",
   "metadata": {
    "papermill": {
     "duration": 0.043972,
     "end_time": "2024-05-17T04:42:54.271241",
     "exception": false,
     "start_time": "2024-05-17T04:42:54.227269",
     "status": "completed"
    },
    "tags": []
   },
   "source": [
    "# Exploratory Data Analysis (EDA)\n",
    "We begin our exploratory data analysis by visualizing the distribution of various features. This helps us understand the overall structure and trends in the dataset."
   ]
  },
  {
   "cell_type": "markdown",
   "id": "786ddddd",
   "metadata": {
    "papermill": {
     "duration": 0.044264,
     "end_time": "2024-05-17T04:42:54.361674",
     "exception": false,
     "start_time": "2024-05-17T04:42:54.317410",
     "status": "completed"
    },
    "tags": []
   },
   "source": [
    "### Distribution of Salaries in USD\n",
    "We analyze the distribution of salaries to understand the spread and central tendency."
   ]
  },
  {
   "cell_type": "code",
   "execution_count": null,
   "id": "a58df409",
   "metadata": {
    "execution": {
     "iopub.execute_input": "2024-05-17T04:42:54.450224Z",
     "iopub.status.busy": "2024-05-17T04:42:54.449768Z",
     "iopub.status.idle": "2024-05-17T04:42:55.223867Z",
     "shell.execute_reply": "2024-05-17T04:42:55.221860Z"
    },
    "papermill": {
     "duration": 0.821972,
     "end_time": "2024-05-17T04:42:55.227266",
     "exception": false,
     "start_time": "2024-05-17T04:42:54.405294",
     "status": "completed"
    },
    "tags": []
   },
   "outputs": [],
   "source": [
    "plt.figure(figsize=(12, 6))\n",
    "sns.histplot(Data_Salary['salary_in_usd'], kde=True)\n",
    "plt.title('Distribution of Salaries in USD')\n",
    "plt.xlabel('Salary (USD)')\n",
    "plt.ylabel('Frequency')\n",
    "plt.show()"
   ]
  },
  {
   "cell_type": "markdown",
   "id": "64770c1c",
   "metadata": {
    "papermill": {
     "duration": 0.046859,
     "end_time": "2024-05-17T04:42:55.321161",
     "exception": false,
     "start_time": "2024-05-17T04:42:55.274302",
     "status": "completed"
    },
    "tags": []
   },
   "source": [
    "### Distribution of Top 20 Job Titles\n",
    "We analyze the distribution of the top 20 job titles to avoid overcrowding and better visualize the most common roles in the dataset."
   ]
  },
  {
   "cell_type": "code",
   "execution_count": null,
   "id": "2c9a7b30",
   "metadata": {
    "execution": {
     "iopub.execute_input": "2024-05-17T04:42:55.413421Z",
     "iopub.status.busy": "2024-05-17T04:42:55.412185Z",
     "iopub.status.idle": "2024-05-17T04:42:55.990337Z",
     "shell.execute_reply": "2024-05-17T04:42:55.988799Z"
    },
    "papermill": {
     "duration": 0.627901,
     "end_time": "2024-05-17T04:42:55.993660",
     "exception": false,
     "start_time": "2024-05-17T04:42:55.365759",
     "status": "completed"
    },
    "tags": []
   },
   "outputs": [],
   "source": [
    "plt.figure(figsize=(14, 8))\n",
    "top_20_job_titles = Data_Salary['job_title'].value_counts().nlargest(20).index\n",
    "sns.countplot(y='job_title', data=Data_Salary, order=top_20_job_titles)\n",
    "plt.title('Distribution of Top 20 Job Titles')\n",
    "plt.xlabel('Count')\n",
    "plt.ylabel('Job Title')\n",
    "plt.show()"
   ]
  },
  {
   "cell_type": "markdown",
   "id": "f7a1a1f0",
   "metadata": {
    "papermill": {
     "duration": 0.047017,
     "end_time": "2024-05-17T04:42:56.092450",
     "exception": false,
     "start_time": "2024-05-17T04:42:56.045433",
     "status": "completed"
    },
    "tags": []
   },
   "source": [
    "### Salary Distribution by Experience Level\n",
    "We explore the salary distribution across different experience levels to see how experience impacts salary."
   ]
  },
  {
   "cell_type": "code",
   "execution_count": null,
   "id": "d216fc67",
   "metadata": {
    "execution": {
     "iopub.execute_input": "2024-05-17T04:42:56.190147Z",
     "iopub.status.busy": "2024-05-17T04:42:56.189043Z",
     "iopub.status.idle": "2024-05-17T04:42:56.573542Z",
     "shell.execute_reply": "2024-05-17T04:42:56.571857Z"
    },
    "papermill": {
     "duration": 0.436015,
     "end_time": "2024-05-17T04:42:56.576491",
     "exception": false,
     "start_time": "2024-05-17T04:42:56.140476",
     "status": "completed"
    },
    "tags": []
   },
   "outputs": [],
   "source": [
    "plt.figure(figsize=(10, 6))\n",
    "sns.boxplot(data=Data_Salary, x='experience_level', y='salary_in_usd')\n",
    "plt.title('Salary Distribution by Experience Level')\n",
    "plt.xlabel('Experience Level')\n",
    "plt.ylabel('Salary (USD)')\n",
    "plt.show()"
   ]
  },
  {
   "cell_type": "markdown",
   "id": "c847d3c7",
   "metadata": {
    "papermill": {
     "duration": 0.048302,
     "end_time": "2024-05-17T04:42:56.672029",
     "exception": false,
     "start_time": "2024-05-17T04:42:56.623727",
     "status": "completed"
    },
    "tags": []
   },
   "source": [
    "### Salary Distribution by Employment Type\n",
    "We analyze the salary distribution across different types of employment to see if there's any significant difference."
   ]
  },
  {
   "cell_type": "code",
   "execution_count": null,
   "id": "563297fd",
   "metadata": {
    "execution": {
     "iopub.execute_input": "2024-05-17T04:42:56.776126Z",
     "iopub.status.busy": "2024-05-17T04:42:56.774878Z",
     "iopub.status.idle": "2024-05-17T04:42:57.182006Z",
     "shell.execute_reply": "2024-05-17T04:42:57.180551Z"
    },
    "papermill": {
     "duration": 0.463335,
     "end_time": "2024-05-17T04:42:57.184863",
     "exception": false,
     "start_time": "2024-05-17T04:42:56.721528",
     "status": "completed"
    },
    "tags": []
   },
   "outputs": [],
   "source": [
    "plt.figure(figsize=(10, 6))\n",
    "sns.boxplot(data=Data_Salary, x='employment_type', y='salary_in_usd')\n",
    "plt.title('Salary Distribution by Employment Type')\n",
    "plt.xlabel('Employment Type')\n",
    "plt.ylabel('Salary (USD)')\n",
    "plt.show()"
   ]
  },
  {
   "cell_type": "markdown",
   "id": "221af3b0",
   "metadata": {
    "papermill": {
     "duration": 0.046152,
     "end_time": "2024-05-17T04:42:57.283438",
     "exception": false,
     "start_time": "2024-05-17T04:42:57.237286",
     "status": "completed"
    },
    "tags": []
   },
   "source": [
    "### Simple Correlation Analysis\n",
    "We compute the correlation matrix to understand the relationships between `salary_in_usd` and other numeric features. The correlation coefficient ranges from -1 to 1, where:\n",
    "- 1 indicates a strong positive correlation.\n",
    "- -1 indicates a strong negative correlation.\n",
    "- 0 indicates no correlation."
   ]
  },
  {
   "cell_type": "code",
   "execution_count": null,
   "id": "50a55cdf",
   "metadata": {
    "execution": {
     "iopub.execute_input": "2024-05-17T04:42:57.382573Z",
     "iopub.status.busy": "2024-05-17T04:42:57.381559Z",
     "iopub.status.idle": "2024-05-17T04:43:03.066780Z",
     "shell.execute_reply": "2024-05-17T04:43:03.065560Z"
    },
    "papermill": {
     "duration": 5.73838,
     "end_time": "2024-05-17T04:43:03.069437",
     "exception": false,
     "start_time": "2024-05-17T04:42:57.331057",
     "status": "completed"
    },
    "tags": []
   },
   "outputs": [],
   "source": [
    "# One-Hot Encode categorical columns\n",
    "categorical_cols = Data_Salary.select_dtypes(include=['object']).columns\n",
    "Data_Salary_encoded = pd.get_dummies(Data_Salary, columns=categorical_cols, drop_first=True)\n",
    "\n",
    "# Simple correlation analysis with encoded data\n",
    "correlation_matrix = Data_Salary_encoded.corr()\n",
    "salary_correlation = correlation_matrix['salary_in_usd'].sort_values(ascending=False)\n",
    "\n",
    "print(\"Correlation of numerical features with salary_in_usd:\")\n",
    "print(salary_correlation)"
   ]
  },
  {
   "cell_type": "markdown",
   "id": "3e96d3dc",
   "metadata": {
    "papermill": {
     "duration": 0.046012,
     "end_time": "2024-05-17T04:43:03.161727",
     "exception": false,
     "start_time": "2024-05-17T04:43:03.115715",
     "status": "completed"
    },
    "tags": []
   },
   "source": [
    "### Outlier Analysis\n",
    "We use boxplots to visualize outliers in the salary data. Outliers can significantly impact the analysis and predictive modeling, so it's essential to identify and handle them appropriately.\n",
    "\n",
    "The Interquartile Range (IQR) method is used to identify outliers:\n",
    "- Q1: 25th percentile\n",
    "- Q3: 75th percentile\n",
    "- IQR = Q3 - Q1\n",
    "- Outliers are defined as data points below Q1 - 1.5 * IQR or above Q3 + 1.5 * IQR."
   ]
  },
  {
   "cell_type": "code",
   "execution_count": null,
   "id": "92fb4f59",
   "metadata": {
    "execution": {
     "iopub.execute_input": "2024-05-17T04:43:03.264079Z",
     "iopub.status.busy": "2024-05-17T04:43:03.263174Z",
     "iopub.status.idle": "2024-05-17T04:43:03.529015Z",
     "shell.execute_reply": "2024-05-17T04:43:03.527716Z"
    },
    "papermill": {
     "duration": 0.324315,
     "end_time": "2024-05-17T04:43:03.532821",
     "exception": false,
     "start_time": "2024-05-17T04:43:03.208506",
     "status": "completed"
    },
    "tags": []
   },
   "outputs": [],
   "source": [
    "# Boxplot to visualize outliers in 'salary_in_usd'\n",
    "plt.figure(figsize=(10, 6))\n",
    "sns.boxplot(x=Data_Salary['salary_in_usd'])\n",
    "plt.title('Boxplot of Salary in USD')\n",
    "plt.xlabel('Salary (USD)')\n",
    "plt.show()\n",
    "\n",
    "# Identifying outliers using IQR method\n",
    "Q1 = Data_Salary['salary_in_usd'].quantile(0.25)\n",
    "Q3 = Data_Salary['salary_in_usd'].quantile(0.75)\n",
    "IQR = Q3 - Q1\n",
    "outliers = Data_Salary[(Data_Salary['salary_in_usd'] < (Q1 - 1.5 * IQR)) | (Data_Salary['salary_in_usd'] > (Q3 + 1.5 * IQR))]\n",
    "non_outliers = Data_Salary[~((Data_Salary['salary_in_usd'] < (Q1 - 1.5 * IQR)) | (Data_Salary['salary_in_usd'] > (Q3 + 1.5 * IQR)))]\n",
    "print(\"Number of outliers detected:\", len(outliers))"
   ]
  },
  {
   "cell_type": "markdown",
   "id": "930dfcb8",
   "metadata": {
    "papermill": {
     "duration": 0.053383,
     "end_time": "2024-05-17T04:43:03.641565",
     "exception": false,
     "start_time": "2024-05-17T04:43:03.588182",
     "status": "completed"
    },
    "tags": []
   },
   "source": [
    "### Advanced Visualizations\n",
    "\n",
    "#### Violin Plot of Salary by Experience Level\n",
    "Violin plots are used to visualize the distribution of salaries across different experience levels. Unlike boxplots, violin plots also show the kernel density estimate, which helps in understanding the distribution shape."
   ]
  },
  {
   "cell_type": "code",
   "execution_count": null,
   "id": "409b8f15",
   "metadata": {
    "execution": {
     "iopub.execute_input": "2024-05-17T04:43:03.753791Z",
     "iopub.status.busy": "2024-05-17T04:43:03.753295Z",
     "iopub.status.idle": "2024-05-17T04:43:04.278710Z",
     "shell.execute_reply": "2024-05-17T04:43:04.277233Z"
    },
    "papermill": {
     "duration": 0.591804,
     "end_time": "2024-05-17T04:43:04.281380",
     "exception": false,
     "start_time": "2024-05-17T04:43:03.689576",
     "status": "completed"
    },
    "tags": []
   },
   "outputs": [],
   "source": [
    "plt.figure(figsize=(10, 6))\n",
    "sns.violinplot(x=Data_Salary['experience_level'], y=Data_Salary['salary_in_usd'])\n",
    "plt.title('Violin Plot of Salary by Experience Level')\n",
    "plt.xlabel('Experience Level')\n",
    "plt.ylabel('Salary (USD)')\n",
    "plt.show()"
   ]
  },
  {
   "cell_type": "markdown",
   "id": "0d82d585",
   "metadata": {
    "papermill": {
     "duration": 0.045572,
     "end_time": "2024-05-17T04:43:04.377741",
     "exception": false,
     "start_time": "2024-05-17T04:43:04.332169",
     "status": "completed"
    },
    "tags": []
   },
   "source": [
    "### Feature Importance Using Random Forest\n",
    "We use a Random Forest model to determine the importance of various features in predicting salaries. Feature importance helps in identifying which features have the most influence on the target variable.\n",
    "\n",
    "Random Forest is an ensemble learning method that operates by constructing multiple decision trees during training and outputting the mean prediction of the individual trees."
   ]
  },
  {
   "cell_type": "code",
   "execution_count": null,
   "id": "0ba92dff",
   "metadata": {
    "execution": {
     "iopub.execute_input": "2024-05-17T04:43:04.472860Z",
     "iopub.status.busy": "2024-05-17T04:43:04.472099Z",
     "iopub.status.idle": "2024-05-17T04:43:06.017370Z",
     "shell.execute_reply": "2024-05-17T04:43:06.015844Z"
    },
    "papermill": {
     "duration": 1.596591,
     "end_time": "2024-05-17T04:43:06.020537",
     "exception": false,
     "start_time": "2024-05-17T04:43:04.423946",
     "status": "completed"
    },
    "tags": []
   },
   "outputs": [],
   "source": [
    "# Ensure necessary libraries are imported\n",
    "from sklearn.model_selection import train_test_split\n",
    "from sklearn.ensemble import RandomForestRegressor\n",
    "from sklearn.metrics import mean_absolute_error, r2_score\n",
    "\n",
    "# Prepare data for modeling\n",
    "features = ['work_year', 'experience_level', 'employment_type', 'remote_ratio']\n",
    "Data_Salary_encoded = pd.get_dummies(Data_Salary, columns=features, drop_first=True)\n",
    "X = Data_Salary_encoded.drop(['salary', 'salary_in_usd', 'job_title', 'salary_currency', 'employee_residence', 'company_location', 'company_size'], axis=1)\n",
    "y = Data_Salary_encoded['salary_in_usd']\n",
    "\n",
    "# Split data into training and testing sets\n",
    "X_train, X_test, y_train, y_test = train_test_split(X, y, test_size=0.2, random_state=42)\n",
    "\n",
    "# Train Random Forest model\n",
    "model = RandomForestRegressor(n_estimators=100, random_state=42)\n",
    "model.fit(X_train, y_train)\n",
    "\n",
    "# Get feature importances\n",
    "feature_importances = model.feature_importances_\n",
    "features = X.columns\n",
    "feature_importance_df = pd.DataFrame({'Feature': features, 'Importance': feature_importances}).sort_values(by='Importance', ascending=False)\n",
    "\n",
    "# Plot feature importances\n",
    "plt.figure(figsize=(10, 6))\n",
    "sns.barplot(x=feature_importance_df['Importance'], y=feature_importance_df['Feature'])\n",
    "plt.title('Feature Importance using Random Forest')\n",
    "plt.xlabel('Importance')\n",
    "plt.ylabel('Feature')\n",
    "plt.show()"
   ]
  },
  {
   "cell_type": "markdown",
   "id": "49654c96",
   "metadata": {
    "papermill": {
     "duration": 0.046526,
     "end_time": "2024-05-17T04:43:06.115239",
     "exception": false,
     "start_time": "2024-05-17T04:43:06.068713",
     "status": "completed"
    },
    "tags": []
   },
   "source": [
    "### Predictive Modeling: Random Forest\n",
    "We use the Random Forest model to predict salaries based on various features. The performance of the model is evaluated using Mean Absolute Error (MAE) and R-squared (R²) metrics.\n",
    "\n",
    "- **Mean Absolute Error (MAE):** Measures the average magnitude of errors in a set of predictions, without considering their direction.\n",
    "- **R-squared (R²):** Represents the proportion of the variance for the dependent variable that's explained by the independent variables in the model."
   ]
  },
  {
   "cell_type": "code",
   "execution_count": null,
   "id": "1ee8a74b",
   "metadata": {
    "execution": {
     "iopub.execute_input": "2024-05-17T04:43:06.214089Z",
     "iopub.status.busy": "2024-05-17T04:43:06.212939Z",
     "iopub.status.idle": "2024-05-17T04:43:06.245765Z",
     "shell.execute_reply": "2024-05-17T04:43:06.244419Z"
    },
    "papermill": {
     "duration": 0.086079,
     "end_time": "2024-05-17T04:43:06.248635",
     "exception": false,
     "start_time": "2024-05-17T04:43:06.162556",
     "status": "completed"
    },
    "tags": []
   },
   "outputs": [],
   "source": [
    "# Predictive Modeling: Random Forest\n",
    "y_pred = model.predict(X_test)\n",
    "mae = mean_absolute_error(y_test, y_pred)\n",
    "r2 = r2_score(y_test, y_pred)\n",
    "\n",
    "print(\"Mean Absolute Error (MAE):\", mae)\n",
    "print(\"R-squared (R²):\", r2)"
   ]
  }
 ],
 "metadata": {
  "kaggle": {
   "accelerator": "none",
   "dataSources": [
    {
     "datasetId": 4864116,
     "sourceId": 8208471,
     "sourceType": "datasetVersion"
    }
   ],
   "dockerImageVersionId": 30698,
   "isGpuEnabled": false,
   "isInternetEnabled": true,
   "language": "python",
   "sourceType": "notebook"
  },
  "kernelspec": {
   "display_name": "Python 3",
   "language": "python",
   "name": "python3"
  },
  "language_info": {
   "codemirror_mode": {
    "name": "ipython",
    "version": 3
   },
   "file_extension": ".py",
   "mimetype": "text/x-python",
   "name": "python",
   "nbconvert_exporter": "python",
   "pygments_lexer": "ipython3",
   "version": "3.11.7"
  },
  "papermill": {
   "default_parameters": {},
   "duration": 54.303371,
   "end_time": "2024-05-17T04:43:08.027212",
   "environment_variables": {},
   "exception": null,
   "input_path": "__notebook__.ipynb",
   "output_path": "__notebook__.ipynb",
   "parameters": {},
   "start_time": "2024-05-17T04:42:13.723841",
   "version": "2.5.0"
  },
  "widgets": {
   "application/vnd.jupyter.widget-state+json": {
    "state": {
     "0bba054cd9d5408c93320cf94bc859f8": {
      "model_module": "@jupyter-widgets/controls",
      "model_module_version": "1.5.0",
      "model_name": "HBoxModel",
      "state": {
       "_dom_classes": [],
       "_model_module": "@jupyter-widgets/controls",
       "_model_module_version": "1.5.0",
       "_model_name": "HBoxModel",
       "_view_count": null,
       "_view_module": "@jupyter-widgets/controls",
       "_view_module_version": "1.5.0",
       "_view_name": "HBoxView",
       "box_style": "",
       "children": [
        "IPY_MODEL_9fb6cb4409734df6a8bf6f0b45886918",
        "IPY_MODEL_d17f192240ec41c78750e294aa1c2f38",
        "IPY_MODEL_a57ce91418d545308948cdabaf7aaa12"
       ],
       "layout": "IPY_MODEL_eab84425d0b64414a1d9743f35c039ff"
      }
     },
     "0efc5c54fb534ee9abda821434f0b123": {
      "model_module": "@jupyter-widgets/base",
      "model_module_version": "1.2.0",
      "model_name": "LayoutModel",
      "state": {
       "_model_module": "@jupyter-widgets/base",
       "_model_module_version": "1.2.0",
       "_model_name": "LayoutModel",
       "_view_count": null,
       "_view_module": "@jupyter-widgets/base",
       "_view_module_version": "1.2.0",
       "_view_name": "LayoutView",
       "align_content": null,
       "align_items": null,
       "align_self": null,
       "border": null,
       "bottom": null,
       "display": null,
       "flex": null,
       "flex_flow": null,
       "grid_area": null,
       "grid_auto_columns": null,
       "grid_auto_flow": null,
       "grid_auto_rows": null,
       "grid_column": null,
       "grid_gap": null,
       "grid_row": null,
       "grid_template_areas": null,
       "grid_template_columns": null,
       "grid_template_rows": null,
       "height": null,
       "justify_content": null,
       "justify_items": null,
       "left": null,
       "margin": null,
       "max_height": null,
       "max_width": null,
       "min_height": null,
       "min_width": null,
       "object_fit": null,
       "object_position": null,
       "order": null,
       "overflow": null,
       "overflow_x": null,
       "overflow_y": null,
       "padding": null,
       "right": null,
       "top": null,
       "visibility": null,
       "width": null
      }
     },
     "17e6facf71c74bcd879d73ecaaf71f78": {
      "model_module": "@jupyter-widgets/controls",
      "model_module_version": "1.5.0",
      "model_name": "DescriptionStyleModel",
      "state": {
       "_model_module": "@jupyter-widgets/controls",
       "_model_module_version": "1.5.0",
       "_model_name": "DescriptionStyleModel",
       "_view_count": null,
       "_view_module": "@jupyter-widgets/base",
       "_view_module_version": "1.2.0",
       "_view_name": "StyleView",
       "description_width": ""
      }
     },
     "1fb82aa111d14888a1c6e3b06c222db5": {
      "model_module": "@jupyter-widgets/base",
      "model_module_version": "1.2.0",
      "model_name": "LayoutModel",
      "state": {
       "_model_module": "@jupyter-widgets/base",
       "_model_module_version": "1.2.0",
       "_model_name": "LayoutModel",
       "_view_count": null,
       "_view_module": "@jupyter-widgets/base",
       "_view_module_version": "1.2.0",
       "_view_name": "LayoutView",
       "align_content": null,
       "align_items": null,
       "align_self": null,
       "border": null,
       "bottom": null,
       "display": null,
       "flex": null,
       "flex_flow": null,
       "grid_area": null,
       "grid_auto_columns": null,
       "grid_auto_flow": null,
       "grid_auto_rows": null,
       "grid_column": null,
       "grid_gap": null,
       "grid_row": null,
       "grid_template_areas": null,
       "grid_template_columns": null,
       "grid_template_rows": null,
       "height": null,
       "justify_content": null,
       "justify_items": null,
       "left": null,
       "margin": null,
       "max_height": null,
       "max_width": null,
       "min_height": null,
       "min_width": null,
       "object_fit": null,
       "object_position": null,
       "order": null,
       "overflow": null,
       "overflow_x": null,
       "overflow_y": null,
       "padding": null,
       "right": null,
       "top": null,
       "visibility": null,
       "width": null
      }
     },
     "25aff57007d54de8a5c43aa61ee0ead5": {
      "model_module": "@jupyter-widgets/base",
      "model_module_version": "1.2.0",
      "model_name": "LayoutModel",
      "state": {
       "_model_module": "@jupyter-widgets/base",
       "_model_module_version": "1.2.0",
       "_model_name": "LayoutModel",
       "_view_count": null,
       "_view_module": "@jupyter-widgets/base",
       "_view_module_version": "1.2.0",
       "_view_name": "LayoutView",
       "align_content": null,
       "align_items": null,
       "align_self": null,
       "border": null,
       "bottom": null,
       "display": null,
       "flex": null,
       "flex_flow": null,
       "grid_area": null,
       "grid_auto_columns": null,
       "grid_auto_flow": null,
       "grid_auto_rows": null,
       "grid_column": null,
       "grid_gap": null,
       "grid_row": null,
       "grid_template_areas": null,
       "grid_template_columns": null,
       "grid_template_rows": null,
       "height": null,
       "justify_content": null,
       "justify_items": null,
       "left": null,
       "margin": null,
       "max_height": null,
       "max_width": null,
       "min_height": null,
       "min_width": null,
       "object_fit": null,
       "object_position": null,
       "order": null,
       "overflow": null,
       "overflow_x": null,
       "overflow_y": null,
       "padding": null,
       "right": null,
       "top": null,
       "visibility": null,
       "width": null
      }
     },
     "2f51801029db4b72bb3c03c578256ac4": {
      "model_module": "@jupyter-widgets/base",
      "model_module_version": "1.2.0",
      "model_name": "LayoutModel",
      "state": {
       "_model_module": "@jupyter-widgets/base",
       "_model_module_version": "1.2.0",
       "_model_name": "LayoutModel",
       "_view_count": null,
       "_view_module": "@jupyter-widgets/base",
       "_view_module_version": "1.2.0",
       "_view_name": "LayoutView",
       "align_content": null,
       "align_items": null,
       "align_self": null,
       "border": null,
       "bottom": null,
       "display": null,
       "flex": null,
       "flex_flow": null,
       "grid_area": null,
       "grid_auto_columns": null,
       "grid_auto_flow": null,
       "grid_auto_rows": null,
       "grid_column": null,
       "grid_gap": null,
       "grid_row": null,
       "grid_template_areas": null,
       "grid_template_columns": null,
       "grid_template_rows": null,
       "height": null,
       "justify_content": null,
       "justify_items": null,
       "left": null,
       "margin": null,
       "max_height": null,
       "max_width": null,
       "min_height": null,
       "min_width": null,
       "object_fit": null,
       "object_position": null,
       "order": null,
       "overflow": null,
       "overflow_x": null,
       "overflow_y": null,
       "padding": null,
       "right": null,
       "top": null,
       "visibility": null,
       "width": null
      }
     },
     "369bd606c04a45878378e74245477981": {
      "model_module": "@jupyter-widgets/controls",
      "model_module_version": "1.5.0",
      "model_name": "FloatProgressModel",
      "state": {
       "_dom_classes": [],
       "_model_module": "@jupyter-widgets/controls",
       "_model_module_version": "1.5.0",
       "_model_name": "FloatProgressModel",
       "_view_count": null,
       "_view_module": "@jupyter-widgets/controls",
       "_view_module_version": "1.5.0",
       "_view_name": "ProgressView",
       "bar_style": "success",
       "description": "",
       "description_tooltip": null,
       "layout": "IPY_MODEL_de2ce164dcd643b7abd14d9d82d64dd2",
       "max": 5,
       "min": 0,
       "orientation": "horizontal",
       "style": "IPY_MODEL_91de7f9b52484e9e9f2a54000fc60604",
       "value": 5
      }
     },
     "3a38a6c19f4a47bba95ec45fb4223d9e": {
      "model_module": "@jupyter-widgets/base",
      "model_module_version": "1.2.0",
      "model_name": "LayoutModel",
      "state": {
       "_model_module": "@jupyter-widgets/base",
       "_model_module_version": "1.2.0",
       "_model_name": "LayoutModel",
       "_view_count": null,
       "_view_module": "@jupyter-widgets/base",
       "_view_module_version": "1.2.0",
       "_view_name": "LayoutView",
       "align_content": null,
       "align_items": null,
       "align_self": null,
       "border": null,
       "bottom": null,
       "display": null,
       "flex": null,
       "flex_flow": null,
       "grid_area": null,
       "grid_auto_columns": null,
       "grid_auto_flow": null,
       "grid_auto_rows": null,
       "grid_column": null,
       "grid_gap": null,
       "grid_row": null,
       "grid_template_areas": null,
       "grid_template_columns": null,
       "grid_template_rows": null,
       "height": null,
       "justify_content": null,
       "justify_items": null,
       "left": null,
       "margin": null,
       "max_height": null,
       "max_width": null,
       "min_height": null,
       "min_width": null,
       "object_fit": null,
       "object_position": null,
       "order": null,
       "overflow": null,
       "overflow_x": null,
       "overflow_y": null,
       "padding": null,
       "right": null,
       "top": null,
       "visibility": null,
       "width": null
      }
     },
     "3e01af61ee634d459cf9af9df36da904": {
      "model_module": "@jupyter-widgets/controls",
      "model_module_version": "1.5.0",
      "model_name": "DescriptionStyleModel",
      "state": {
       "_model_module": "@jupyter-widgets/controls",
       "_model_module_version": "1.5.0",
       "_model_name": "DescriptionStyleModel",
       "_view_count": null,
       "_view_module": "@jupyter-widgets/base",
       "_view_module_version": "1.2.0",
       "_view_name": "StyleView",
       "description_width": ""
      }
     },
     "4319eabb8a204ac8b25907ae7c97d463": {
      "model_module": "@jupyter-widgets/base",
      "model_module_version": "1.2.0",
      "model_name": "LayoutModel",
      "state": {
       "_model_module": "@jupyter-widgets/base",
       "_model_module_version": "1.2.0",
       "_model_name": "LayoutModel",
       "_view_count": null,
       "_view_module": "@jupyter-widgets/base",
       "_view_module_version": "1.2.0",
       "_view_name": "LayoutView",
       "align_content": null,
       "align_items": null,
       "align_self": null,
       "border": null,
       "bottom": null,
       "display": null,
       "flex": null,
       "flex_flow": null,
       "grid_area": null,
       "grid_auto_columns": null,
       "grid_auto_flow": null,
       "grid_auto_rows": null,
       "grid_column": null,
       "grid_gap": null,
       "grid_row": null,
       "grid_template_areas": null,
       "grid_template_columns": null,
       "grid_template_rows": null,
       "height": null,
       "justify_content": null,
       "justify_items": null,
       "left": null,
       "margin": null,
       "max_height": null,
       "max_width": null,
       "min_height": null,
       "min_width": null,
       "object_fit": null,
       "object_position": null,
       "order": null,
       "overflow": null,
       "overflow_x": null,
       "overflow_y": null,
       "padding": null,
       "right": null,
       "top": null,
       "visibility": null,
       "width": null
      }
     },
     "5014bb50ad5442b6a305461a8f3d1df0": {
      "model_module": "@jupyter-widgets/controls",
      "model_module_version": "1.5.0",
      "model_name": "ProgressStyleModel",
      "state": {
       "_model_module": "@jupyter-widgets/controls",
       "_model_module_version": "1.5.0",
       "_model_name": "ProgressStyleModel",
       "_view_count": null,
       "_view_module": "@jupyter-widgets/base",
       "_view_module_version": "1.2.0",
       "_view_name": "StyleView",
       "bar_color": null,
       "description_width": ""
      }
     },
     "5bbb3d03ac634e74a0c1c453bd88aa22": {
      "model_module": "@jupyter-widgets/controls",
      "model_module_version": "1.5.0",
      "model_name": "HTMLModel",
      "state": {
       "_dom_classes": [],
       "_model_module": "@jupyter-widgets/controls",
       "_model_module_version": "1.5.0",
       "_model_name": "HTMLModel",
       "_view_count": null,
       "_view_module": "@jupyter-widgets/controls",
       "_view_module_version": "1.5.0",
       "_view_name": "HTMLView",
       "description": "",
       "description_tooltip": null,
       "layout": "IPY_MODEL_2f51801029db4b72bb3c03c578256ac4",
       "placeholder": "​",
       "style": "IPY_MODEL_e5b68fbde1f243e6b0ee89b94642c73e",
       "value": " 1/1 [00:12&lt;00:00, 12.74s/it]"
      }
     },
     "645db8d64a194beb84725fd5d1db5616": {
      "model_module": "@jupyter-widgets/controls",
      "model_module_version": "1.5.0",
      "model_name": "HBoxModel",
      "state": {
       "_dom_classes": [],
       "_model_module": "@jupyter-widgets/controls",
       "_model_module_version": "1.5.0",
       "_model_name": "HBoxModel",
       "_view_count": null,
       "_view_module": "@jupyter-widgets/controls",
       "_view_module_version": "1.5.0",
       "_view_name": "HBoxView",
       "box_style": "",
       "children": [
        "IPY_MODEL_ece23b4930384220b067177708522b17",
        "IPY_MODEL_a31b4f828d474309b6aab8a547cfe934",
        "IPY_MODEL_5bbb3d03ac634e74a0c1c453bd88aa22"
       ],
       "layout": "IPY_MODEL_0efc5c54fb534ee9abda821434f0b123"
      }
     },
     "684d92a081cb4730a0aaa407d8e1cc86": {
      "model_module": "@jupyter-widgets/base",
      "model_module_version": "1.2.0",
      "model_name": "LayoutModel",
      "state": {
       "_model_module": "@jupyter-widgets/base",
       "_model_module_version": "1.2.0",
       "_model_name": "LayoutModel",
       "_view_count": null,
       "_view_module": "@jupyter-widgets/base",
       "_view_module_version": "1.2.0",
       "_view_name": "LayoutView",
       "align_content": null,
       "align_items": null,
       "align_self": null,
       "border": null,
       "bottom": null,
       "display": null,
       "flex": null,
       "flex_flow": null,
       "grid_area": null,
       "grid_auto_columns": null,
       "grid_auto_flow": null,
       "grid_auto_rows": null,
       "grid_column": null,
       "grid_gap": null,
       "grid_row": null,
       "grid_template_areas": null,
       "grid_template_columns": null,
       "grid_template_rows": null,
       "height": null,
       "justify_content": null,
       "justify_items": null,
       "left": null,
       "margin": null,
       "max_height": null,
       "max_width": null,
       "min_height": null,
       "min_width": null,
       "object_fit": null,
       "object_position": null,
       "order": null,
       "overflow": null,
       "overflow_x": null,
       "overflow_y": null,
       "padding": null,
       "right": null,
       "top": null,
       "visibility": null,
       "width": null
      }
     },
     "83314352749247408927df120d2e54d2": {
      "model_module": "@jupyter-widgets/controls",
      "model_module_version": "1.5.0",
      "model_name": "HTMLModel",
      "state": {
       "_dom_classes": [],
       "_model_module": "@jupyter-widgets/controls",
       "_model_module_version": "1.5.0",
       "_model_name": "HTMLModel",
       "_view_count": null,
       "_view_module": "@jupyter-widgets/controls",
       "_view_module_version": "1.5.0",
       "_view_name": "HTMLView",
       "description": "",
       "description_tooltip": null,
       "layout": "IPY_MODEL_bdc070f85395498aae9bf1ba5300756a",
       "placeholder": "​",
       "style": "IPY_MODEL_3e01af61ee634d459cf9af9df36da904",
       "value": " 24/24 [00:12&lt;00:00,  2.93it/s, Completed]"
      }
     },
     "887b108f36c848b29ec862513f4172f6": {
      "model_module": "@jupyter-widgets/base",
      "model_module_version": "1.2.0",
      "model_name": "LayoutModel",
      "state": {
       "_model_module": "@jupyter-widgets/base",
       "_model_module_version": "1.2.0",
       "_model_name": "LayoutModel",
       "_view_count": null,
       "_view_module": "@jupyter-widgets/base",
       "_view_module_version": "1.2.0",
       "_view_name": "LayoutView",
       "align_content": null,
       "align_items": null,
       "align_self": null,
       "border": null,
       "bottom": null,
       "display": null,
       "flex": null,
       "flex_flow": null,
       "grid_area": null,
       "grid_auto_columns": null,
       "grid_auto_flow": null,
       "grid_auto_rows": null,
       "grid_column": null,
       "grid_gap": null,
       "grid_row": null,
       "grid_template_areas": null,
       "grid_template_columns": null,
       "grid_template_rows": null,
       "height": null,
       "justify_content": null,
       "justify_items": null,
       "left": null,
       "margin": null,
       "max_height": null,
       "max_width": null,
       "min_height": null,
       "min_width": null,
       "object_fit": null,
       "object_position": null,
       "order": null,
       "overflow": null,
       "overflow_x": null,
       "overflow_y": null,
       "padding": null,
       "right": null,
       "top": null,
       "visibility": null,
       "width": null
      }
     },
     "91de7f9b52484e9e9f2a54000fc60604": {
      "model_module": "@jupyter-widgets/controls",
      "model_module_version": "1.5.0",
      "model_name": "ProgressStyleModel",
      "state": {
       "_model_module": "@jupyter-widgets/controls",
       "_model_module_version": "1.5.0",
       "_model_name": "ProgressStyleModel",
       "_view_count": null,
       "_view_module": "@jupyter-widgets/base",
       "_view_module_version": "1.2.0",
       "_view_name": "StyleView",
       "bar_color": null,
       "description_width": ""
      }
     },
     "9a1db97e9e4a4a5ca98bc32464552e0c": {
      "model_module": "@jupyter-widgets/controls",
      "model_module_version": "1.5.0",
      "model_name": "HBoxModel",
      "state": {
       "_dom_classes": [],
       "_model_module": "@jupyter-widgets/controls",
       "_model_module_version": "1.5.0",
       "_model_name": "HBoxModel",
       "_view_count": null,
       "_view_module": "@jupyter-widgets/controls",
       "_view_module_version": "1.5.0",
       "_view_name": "HBoxView",
       "box_style": "",
       "children": [
        "IPY_MODEL_bfe7597d973e4a51b2c4d939ebcc3798",
        "IPY_MODEL_369bd606c04a45878378e74245477981",
        "IPY_MODEL_83314352749247408927df120d2e54d2"
       ],
       "layout": "IPY_MODEL_4319eabb8a204ac8b25907ae7c97d463"
      }
     },
     "9fb6cb4409734df6a8bf6f0b45886918": {
      "model_module": "@jupyter-widgets/controls",
      "model_module_version": "1.5.0",
      "model_name": "HTMLModel",
      "state": {
       "_dom_classes": [],
       "_model_module": "@jupyter-widgets/controls",
       "_model_module_version": "1.5.0",
       "_model_name": "HTMLModel",
       "_view_count": null,
       "_view_module": "@jupyter-widgets/controls",
       "_view_module_version": "1.5.0",
       "_view_name": "HTMLView",
       "description": "",
       "description_tooltip": null,
       "layout": "IPY_MODEL_25aff57007d54de8a5c43aa61ee0ead5",
       "placeholder": "​",
       "style": "IPY_MODEL_ef379e4fd052472ca67be29741b6eeaa",
       "value": "Render HTML: 100%"
      }
     },
     "a310257626a748a781778dfae5d9f3e1": {
      "model_module": "@jupyter-widgets/controls",
      "model_module_version": "1.5.0",
      "model_name": "DescriptionStyleModel",
      "state": {
       "_model_module": "@jupyter-widgets/controls",
       "_model_module_version": "1.5.0",
       "_model_name": "DescriptionStyleModel",
       "_view_count": null,
       "_view_module": "@jupyter-widgets/base",
       "_view_module_version": "1.2.0",
       "_view_name": "StyleView",
       "description_width": ""
      }
     },
     "a31b4f828d474309b6aab8a547cfe934": {
      "model_module": "@jupyter-widgets/controls",
      "model_module_version": "1.5.0",
      "model_name": "FloatProgressModel",
      "state": {
       "_dom_classes": [],
       "_model_module": "@jupyter-widgets/controls",
       "_model_module_version": "1.5.0",
       "_model_name": "FloatProgressModel",
       "_view_count": null,
       "_view_module": "@jupyter-widgets/controls",
       "_view_module_version": "1.5.0",
       "_view_name": "ProgressView",
       "bar_style": "success",
       "description": "",
       "description_tooltip": null,
       "layout": "IPY_MODEL_1fb82aa111d14888a1c6e3b06c222db5",
       "max": 1,
       "min": 0,
       "orientation": "horizontal",
       "style": "IPY_MODEL_f64c1106ccb546cb899c22ae9374ad58",
       "value": 1
      }
     },
     "a57ce91418d545308948cdabaf7aaa12": {
      "model_module": "@jupyter-widgets/controls",
      "model_module_version": "1.5.0",
      "model_name": "HTMLModel",
      "state": {
       "_dom_classes": [],
       "_model_module": "@jupyter-widgets/controls",
       "_model_module_version": "1.5.0",
       "_model_name": "HTMLModel",
       "_view_count": null,
       "_view_module": "@jupyter-widgets/controls",
       "_view_module_version": "1.5.0",
       "_view_name": "HTMLView",
       "description": "",
       "description_tooltip": null,
       "layout": "IPY_MODEL_3a38a6c19f4a47bba95ec45fb4223d9e",
       "placeholder": "​",
       "style": "IPY_MODEL_a310257626a748a781778dfae5d9f3e1",
       "value": " 1/1 [00:01&lt;00:00,  1.26s/it]"
      }
     },
     "ba9e303a4ce84de590fb2e36a956945d": {
      "model_module": "@jupyter-widgets/controls",
      "model_module_version": "1.5.0",
      "model_name": "DescriptionStyleModel",
      "state": {
       "_model_module": "@jupyter-widgets/controls",
       "_model_module_version": "1.5.0",
       "_model_name": "DescriptionStyleModel",
       "_view_count": null,
       "_view_module": "@jupyter-widgets/base",
       "_view_module_version": "1.2.0",
       "_view_name": "StyleView",
       "description_width": ""
      }
     },
     "bdc070f85395498aae9bf1ba5300756a": {
      "model_module": "@jupyter-widgets/base",
      "model_module_version": "1.2.0",
      "model_name": "LayoutModel",
      "state": {
       "_model_module": "@jupyter-widgets/base",
       "_model_module_version": "1.2.0",
       "_model_name": "LayoutModel",
       "_view_count": null,
       "_view_module": "@jupyter-widgets/base",
       "_view_module_version": "1.2.0",
       "_view_name": "LayoutView",
       "align_content": null,
       "align_items": null,
       "align_self": null,
       "border": null,
       "bottom": null,
       "display": null,
       "flex": null,
       "flex_flow": null,
       "grid_area": null,
       "grid_auto_columns": null,
       "grid_auto_flow": null,
       "grid_auto_rows": null,
       "grid_column": null,
       "grid_gap": null,
       "grid_row": null,
       "grid_template_areas": null,
       "grid_template_columns": null,
       "grid_template_rows": null,
       "height": null,
       "justify_content": null,
       "justify_items": null,
       "left": null,
       "margin": null,
       "max_height": null,
       "max_width": null,
       "min_height": null,
       "min_width": null,
       "object_fit": null,
       "object_position": null,
       "order": null,
       "overflow": null,
       "overflow_x": null,
       "overflow_y": null,
       "padding": null,
       "right": null,
       "top": null,
       "visibility": null,
       "width": null
      }
     },
     "bfe7597d973e4a51b2c4d939ebcc3798": {
      "model_module": "@jupyter-widgets/controls",
      "model_module_version": "1.5.0",
      "model_name": "HTMLModel",
      "state": {
       "_dom_classes": [],
       "_model_module": "@jupyter-widgets/controls",
       "_model_module_version": "1.5.0",
       "_model_name": "HTMLModel",
       "_view_count": null,
       "_view_module": "@jupyter-widgets/controls",
       "_view_module_version": "1.5.0",
       "_view_name": "HTMLView",
       "description": "",
       "description_tooltip": null,
       "layout": "IPY_MODEL_684d92a081cb4730a0aaa407d8e1cc86",
       "placeholder": "​",
       "style": "IPY_MODEL_17e6facf71c74bcd879d73ecaaf71f78",
       "value": "Summarize dataset: 100%"
      }
     },
     "cc72bc5b415a4b3cb2dc1b9925c19f70": {
      "model_module": "@jupyter-widgets/base",
      "model_module_version": "1.2.0",
      "model_name": "LayoutModel",
      "state": {
       "_model_module": "@jupyter-widgets/base",
       "_model_module_version": "1.2.0",
       "_model_name": "LayoutModel",
       "_view_count": null,
       "_view_module": "@jupyter-widgets/base",
       "_view_module_version": "1.2.0",
       "_view_name": "LayoutView",
       "align_content": null,
       "align_items": null,
       "align_self": null,
       "border": null,
       "bottom": null,
       "display": null,
       "flex": null,
       "flex_flow": null,
       "grid_area": null,
       "grid_auto_columns": null,
       "grid_auto_flow": null,
       "grid_auto_rows": null,
       "grid_column": null,
       "grid_gap": null,
       "grid_row": null,
       "grid_template_areas": null,
       "grid_template_columns": null,
       "grid_template_rows": null,
       "height": null,
       "justify_content": null,
       "justify_items": null,
       "left": null,
       "margin": null,
       "max_height": null,
       "max_width": null,
       "min_height": null,
       "min_width": null,
       "object_fit": null,
       "object_position": null,
       "order": null,
       "overflow": null,
       "overflow_x": null,
       "overflow_y": null,
       "padding": null,
       "right": null,
       "top": null,
       "visibility": null,
       "width": null
      }
     },
     "d17f192240ec41c78750e294aa1c2f38": {
      "model_module": "@jupyter-widgets/controls",
      "model_module_version": "1.5.0",
      "model_name": "FloatProgressModel",
      "state": {
       "_dom_classes": [],
       "_model_module": "@jupyter-widgets/controls",
       "_model_module_version": "1.5.0",
       "_model_name": "FloatProgressModel",
       "_view_count": null,
       "_view_module": "@jupyter-widgets/controls",
       "_view_module_version": "1.5.0",
       "_view_name": "ProgressView",
       "bar_style": "success",
       "description": "",
       "description_tooltip": null,
       "layout": "IPY_MODEL_887b108f36c848b29ec862513f4172f6",
       "max": 1,
       "min": 0,
       "orientation": "horizontal",
       "style": "IPY_MODEL_5014bb50ad5442b6a305461a8f3d1df0",
       "value": 1
      }
     },
     "de2ce164dcd643b7abd14d9d82d64dd2": {
      "model_module": "@jupyter-widgets/base",
      "model_module_version": "1.2.0",
      "model_name": "LayoutModel",
      "state": {
       "_model_module": "@jupyter-widgets/base",
       "_model_module_version": "1.2.0",
       "_model_name": "LayoutModel",
       "_view_count": null,
       "_view_module": "@jupyter-widgets/base",
       "_view_module_version": "1.2.0",
       "_view_name": "LayoutView",
       "align_content": null,
       "align_items": null,
       "align_self": null,
       "border": null,
       "bottom": null,
       "display": null,
       "flex": null,
       "flex_flow": null,
       "grid_area": null,
       "grid_auto_columns": null,
       "grid_auto_flow": null,
       "grid_auto_rows": null,
       "grid_column": null,
       "grid_gap": null,
       "grid_row": null,
       "grid_template_areas": null,
       "grid_template_columns": null,
       "grid_template_rows": null,
       "height": null,
       "justify_content": null,
       "justify_items": null,
       "left": null,
       "margin": null,
       "max_height": null,
       "max_width": null,
       "min_height": null,
       "min_width": null,
       "object_fit": null,
       "object_position": null,
       "order": null,
       "overflow": null,
       "overflow_x": null,
       "overflow_y": null,
       "padding": null,
       "right": null,
       "top": null,
       "visibility": null,
       "width": null
      }
     },
     "e5b68fbde1f243e6b0ee89b94642c73e": {
      "model_module": "@jupyter-widgets/controls",
      "model_module_version": "1.5.0",
      "model_name": "DescriptionStyleModel",
      "state": {
       "_model_module": "@jupyter-widgets/controls",
       "_model_module_version": "1.5.0",
       "_model_name": "DescriptionStyleModel",
       "_view_count": null,
       "_view_module": "@jupyter-widgets/base",
       "_view_module_version": "1.2.0",
       "_view_name": "StyleView",
       "description_width": ""
      }
     },
     "eab84425d0b64414a1d9743f35c039ff": {
      "model_module": "@jupyter-widgets/base",
      "model_module_version": "1.2.0",
      "model_name": "LayoutModel",
      "state": {
       "_model_module": "@jupyter-widgets/base",
       "_model_module_version": "1.2.0",
       "_model_name": "LayoutModel",
       "_view_count": null,
       "_view_module": "@jupyter-widgets/base",
       "_view_module_version": "1.2.0",
       "_view_name": "LayoutView",
       "align_content": null,
       "align_items": null,
       "align_self": null,
       "border": null,
       "bottom": null,
       "display": null,
       "flex": null,
       "flex_flow": null,
       "grid_area": null,
       "grid_auto_columns": null,
       "grid_auto_flow": null,
       "grid_auto_rows": null,
       "grid_column": null,
       "grid_gap": null,
       "grid_row": null,
       "grid_template_areas": null,
       "grid_template_columns": null,
       "grid_template_rows": null,
       "height": null,
       "justify_content": null,
       "justify_items": null,
       "left": null,
       "margin": null,
       "max_height": null,
       "max_width": null,
       "min_height": null,
       "min_width": null,
       "object_fit": null,
       "object_position": null,
       "order": null,
       "overflow": null,
       "overflow_x": null,
       "overflow_y": null,
       "padding": null,
       "right": null,
       "top": null,
       "visibility": null,
       "width": null
      }
     },
     "ece23b4930384220b067177708522b17": {
      "model_module": "@jupyter-widgets/controls",
      "model_module_version": "1.5.0",
      "model_name": "HTMLModel",
      "state": {
       "_dom_classes": [],
       "_model_module": "@jupyter-widgets/controls",
       "_model_module_version": "1.5.0",
       "_model_name": "HTMLModel",
       "_view_count": null,
       "_view_module": "@jupyter-widgets/controls",
       "_view_module_version": "1.5.0",
       "_view_name": "HTMLView",
       "description": "",
       "description_tooltip": null,
       "layout": "IPY_MODEL_cc72bc5b415a4b3cb2dc1b9925c19f70",
       "placeholder": "​",
       "style": "IPY_MODEL_ba9e303a4ce84de590fb2e36a956945d",
       "value": "Generate report structure: 100%"
      }
     },
     "ef379e4fd052472ca67be29741b6eeaa": {
      "model_module": "@jupyter-widgets/controls",
      "model_module_version": "1.5.0",
      "model_name": "DescriptionStyleModel",
      "state": {
       "_model_module": "@jupyter-widgets/controls",
       "_model_module_version": "1.5.0",
       "_model_name": "DescriptionStyleModel",
       "_view_count": null,
       "_view_module": "@jupyter-widgets/base",
       "_view_module_version": "1.2.0",
       "_view_name": "StyleView",
       "description_width": ""
      }
     },
     "f64c1106ccb546cb899c22ae9374ad58": {
      "model_module": "@jupyter-widgets/controls",
      "model_module_version": "1.5.0",
      "model_name": "ProgressStyleModel",
      "state": {
       "_model_module": "@jupyter-widgets/controls",
       "_model_module_version": "1.5.0",
       "_model_name": "ProgressStyleModel",
       "_view_count": null,
       "_view_module": "@jupyter-widgets/base",
       "_view_module_version": "1.2.0",
       "_view_name": "StyleView",
       "bar_color": null,
       "description_width": ""
      }
     }
    },
    "version_major": 2,
    "version_minor": 0
   }
  }
 },
 "nbformat": 4,
 "nbformat_minor": 5
}
