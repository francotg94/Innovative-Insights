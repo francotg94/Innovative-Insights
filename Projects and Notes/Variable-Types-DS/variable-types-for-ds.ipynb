{
 "cells": [
  {
   "cell_type": "code",
   "execution_count": null,
   "id": "ceb67ed1",
   "metadata": {
    "_cell_guid": "b1076dfc-b9ad-4769-8c92-a6c4dae69d19",
    "_uuid": "8f2839f25d086af736a60e9eeb907d3b93b6e0e5",
    "execution": {
     "iopub.execute_input": "2024-04-19T21:20:22.735341Z",
     "iopub.status.busy": "2024-04-19T21:20:22.734934Z",
     "iopub.status.idle": "2024-04-19T21:20:23.686902Z",
     "shell.execute_reply": "2024-04-19T21:20:23.685675Z"
    },
    "papermill": {
     "duration": 0.963041,
     "end_time": "2024-04-19T21:20:23.689858",
     "exception": false,
     "start_time": "2024-04-19T21:20:22.726817",
     "status": "completed"
    },
    "tags": []
   },
   "outputs": [],
   "source": [
    "# This Python 3 environment comes with many helpful analytics libraries installed\n",
    "# It is defined by the kaggle/python Docker image: https://github.com/kaggle/docker-python\n",
    "# For example, here's several helpful packages to load\n",
    "\n",
    "import numpy as np # linear algebra\n",
    "import pandas as pd # data processing, CSV file I/O (e.g. pd.read_csv)\n",
    "from IPython.display import display\n",
    "# Input data files are available in the read-only \"../input/\" directory\n",
    "# For example, running this (by clicking run or pressing Shift+Enter) will list all files under the input directory\n",
    "\n",
    "import os\n",
    "for dirname, _, filenames in os.walk('/kaggle/input'):\n",
    "    for filename in filenames:\n",
    "        print(os.path.join(dirname, filename))\n",
    "\n",
    "# You can write up to 20GB to the current directory (/kaggle/working/) that gets preserved as output when you create a version using \"Save & Run All\" \n",
    "# You can also write temporary files to /kaggle/temp/, but they won't be saved outside of the current session"
   ]
  },
  {
   "cell_type": "markdown",
   "id": "7821d137",
   "metadata": {
    "papermill": {
     "duration": 0.007285,
     "end_time": "2024-04-19T21:20:23.704242",
     "exception": false,
     "start_time": "2024-04-19T21:20:23.696957",
     "status": "completed"
    },
    "tags": []
   },
   "source": [
    "# **Census Data Analysis**\n",
    "\n",
    "In this notebook, we will perform various data preprocessing techniques on a census dataframe.\n",
    "\n",
    "# **Reading in the Census Dataframe**"
   ]
  },
  {
   "cell_type": "code",
   "execution_count": null,
   "id": "70e7ae8e",
   "metadata": {
    "execution": {
     "iopub.execute_input": "2024-04-19T21:20:23.718910Z",
     "iopub.status.busy": "2024-04-19T21:20:23.718235Z",
     "iopub.status.idle": "2024-04-19T21:20:23.752540Z",
     "shell.execute_reply": "2024-04-19T21:20:23.751589Z"
    },
    "papermill": {
     "duration": 0.044099,
     "end_time": "2024-04-19T21:20:23.755241",
     "exception": false,
     "start_time": "2024-04-19T21:20:23.711142",
     "status": "completed"
    },
    "tags": []
   },
   "outputs": [],
   "source": [
    "census = pd.read_csv('/kaggle/input/census-data/Census Variable.csv', index_col=0)"
   ]
  },
  {
   "cell_type": "markdown",
   "id": "5f193540",
   "metadata": {
    "papermill": {
     "duration": 0.005071,
     "end_time": "2024-04-19T21:20:23.765762",
     "exception": false,
     "start_time": "2024-04-19T21:20:23.760691",
     "status": "completed"
    },
    "tags": []
   },
   "source": [
    "We read in the census dataframe from a CSV file named 'census_data.csv' using pd.read_csv(). The index_col=0 parameter specifies that the first column should be used as the index.\n",
    "\n",
    "# **Assessing Variable Types**"
   ]
  },
  {
   "cell_type": "code",
   "execution_count": null,
   "id": "3b49e8aa",
   "metadata": {
    "execution": {
     "iopub.execute_input": "2024-04-19T21:20:23.781597Z",
     "iopub.status.busy": "2024-04-19T21:20:23.780829Z",
     "iopub.status.idle": "2024-04-19T21:20:23.962349Z",
     "shell.execute_reply": "2024-04-19T21:20:23.961100Z"
    },
    "papermill": {
     "duration": 0.195607,
     "end_time": "2024-04-19T21:20:23.968156",
     "exception": false,
     "start_time": "2024-04-19T21:20:23.772549",
     "status": "completed"
    },
    "tags": []
   },
   "outputs": [],
   "source": [
    "\n",
    "display(census.style.background_gradient(cmap='YlGnBu'))\n",
    "\n",
    "# Get the data types of the columns\n",
    "dtypes_df = census.dtypes.reset_index()\n",
    "dtypes_df.columns = ['Column', 'Data Type']\n",
    "\n",
    "# Apply styling to the DataFrame\n",
    "styled_dtypes_df = dtypes_df.style.set_properties(**{'text-align': 'left', 'font-size': '12px'})\\\n",
    "                                   .set_table_styles([{'selector': 'th', 'props': [('background-color', '#edf8b4')]}])\\\n",
    "                                   .set_table_attributes('style=\"border-collapse: collapse; border: 1px solid black;\"')\\\n",
    "                                    .set_caption('Data Types of Census Columns')      \n",
    "# Display the styled DataFrame\n",
    "display(styled_dtypes_df)"
   ]
  },
  {
   "cell_type": "markdown",
   "id": "b873f09b",
   "metadata": {
    "papermill": {
     "duration": 0.008969,
     "end_time": "2024-04-19T21:20:23.988389",
     "exception": false,
     "start_time": "2024-04-19T21:20:23.979420",
     "status": "completed"
    },
    "tags": []
   },
   "source": [
    "We print out the beginning of the census dataframe using print(census) to inspect its contents.  Next we inspect the data types of each column in the census dataframe, helping us assess the variable types.\n",
    "\n",
    "# **Inspecting Datatypes**"
   ]
  },
  {
   "cell_type": "code",
   "execution_count": null,
   "id": "074c5c49",
   "metadata": {
    "execution": {
     "iopub.execute_input": "2024-04-19T21:20:24.006036Z",
     "iopub.status.busy": "2024-04-19T21:20:24.005546Z",
     "iopub.status.idle": "2024-04-19T21:20:24.024357Z",
     "shell.execute_reply": "2024-04-19T21:20:24.023214Z"
    },
    "papermill": {
     "duration": 0.030671,
     "end_time": "2024-04-19T21:20:24.026833",
     "exception": false,
     "start_time": "2024-04-19T21:20:23.996162",
     "status": "completed"
    },
    "tags": []
   },
   "outputs": [],
   "source": [
    "# Get the unique values of the 'birth_year' column\n",
    "unique_birth_years = census['birth_year'].unique()\n",
    "\n",
    "# Create a new DataFrame with the unique values\n",
    "unique_df = pd.DataFrame({'Birth Year': unique_birth_years})\n",
    "\n",
    "# Apply styling to the DataFrame\n",
    "styled_unique_df = unique_df.style.set_properties(**{'text-align': 'center', 'font-weight': 'bold'})\\\n",
    "                                  .set_caption('Unique Birth Years')\\\n",
    "                                  .set_table_styles([{'selector': 'th', 'props': [('background-color', '#ff9999')]}])\\\n",
    "                                  .set_table_attributes('style=\"border-collapse: collapse; border: 1px solid black;\"')\n",
    "display(styled_unique_df)"
   ]
  },
  {
   "cell_type": "markdown",
   "id": "5dc0ca0a",
   "metadata": {
    "papermill": {
     "duration": 0.007837,
     "end_time": "2024-04-19T21:20:24.042802",
     "exception": false,
     "start_time": "2024-04-19T21:20:24.034965",
     "status": "completed"
    },
    "tags": []
   },
   "source": [
    "This printed out the unique values in the 'birth_year' column, allowing us to identify any missing or invalid values.\n",
    "\n",
    "# **Altering Data**"
   ]
  },
  {
   "cell_type": "code",
   "execution_count": null,
   "id": "dfc878ab",
   "metadata": {
    "execution": {
     "iopub.execute_input": "2024-04-19T21:20:24.061372Z",
     "iopub.status.busy": "2024-04-19T21:20:24.060738Z",
     "iopub.status.idle": "2024-04-19T21:20:24.102568Z",
     "shell.execute_reply": "2024-04-19T21:20:24.101479Z"
    },
    "papermill": {
     "duration": 0.054286,
     "end_time": "2024-04-19T21:20:24.105254",
     "exception": false,
     "start_time": "2024-04-19T21:20:24.050968",
     "status": "completed"
    },
    "tags": []
   },
   "outputs": [],
   "source": [
    "census['birth_year'] = census['birth_year'].replace(['missing'], 1967)\n",
    "census['birth_year'] = census['birth_year'].astype('int64')\n",
    "\n",
    "# Get the unique values of the 'birth_year' column\n",
    "unique_birth_years = census['birth_year'].unique()\n",
    "\n",
    "# Create a DataFrame with the unique values\n",
    "unique_df = pd.DataFrame({'Birth Year': unique_birth_years})\n",
    "\n",
    "# Apply styling to the DataFrame\n",
    "styled_unique_df = unique_df.style.set_properties(**{'text-align': 'center', 'font-size': '12px'})\\\n",
    "                                  .set_caption('Unique Birth Years')\\\n",
    "                                  .set_table_styles([{'selector': 'th', 'props': [('background-color', '#ff9999')]}])\\\n",
    "                                  .set_table_attributes('style=\"border-collapse: collapse; border: 1px solid black;\"')\\\n",
    "                                  \n",
    "# Display the styled DataFrame\n",
    "display(styled_unique_df)\n",
    "\n",
    "# Get the data types of the columns\n",
    "dtypes_df = census.dtypes.reset_index()\n",
    "dtypes_df.columns = ['Column', 'Data Type']\n",
    "\n",
    "# Apply styling to the DataFrame\n",
    "styled_dtypes_df = dtypes_df.style.set_properties(**{'text-align': 'left', 'font-size': '12px'})\\\n",
    "                                   .set_table_styles([{'selector': 'th', 'props': [('background-color', '#edf8b4')]}])\\\n",
    "                                   .set_table_attributes('style=\"border-collapse: collapse; border: 1px solid black;\"')\\\n",
    "                                    .set_caption('Data Types of Census Columns')      \n",
    "# Display the styled DataFrame\n",
    "display(styled_dtypes_df)\n",
    "\n",
    "print(census['birth_year'].mean())"
   ]
  },
  {
   "cell_type": "markdown",
   "id": "ba937968",
   "metadata": {
    "papermill": {
     "duration": 0.00955,
     "end_time": "2024-04-19T21:20:24.123727",
     "exception": false,
     "start_time": "2024-04-19T21:20:24.114177",
     "status": "completed"
    },
    "tags": []
   },
   "source": [
    "We replaced the value 'missing' in the 'birth_year' column with the integer value 1967 using census['birth_year'].replace(['missing'], 1967) to handle missing data. Then, we convert the data type of the 'birth_year' column to 'object' using census['birth_year'].astype('object').\n",
    "\n",
    "We print out the unique values in the 'birth_year' column after the replacement and data type conversion, the data types of each column, and the mean value of the 'birth_year' column.\n",
    "\n",
    "# **Assigning Categorical Order and Label Encoding**"
   ]
  },
  {
   "cell_type": "code",
   "execution_count": null,
   "id": "4793e2dd",
   "metadata": {
    "execution": {
     "iopub.execute_input": "2024-04-19T21:20:24.144942Z",
     "iopub.status.busy": "2024-04-19T21:20:24.144547Z",
     "iopub.status.idle": "2024-04-19T21:20:24.181993Z",
     "shell.execute_reply": "2024-04-19T21:20:24.180601Z"
    },
    "papermill": {
     "duration": 0.052958,
     "end_time": "2024-04-19T21:20:24.185933",
     "exception": false,
     "start_time": "2024-04-19T21:20:24.132975",
     "status": "completed"
    },
    "tags": []
   },
   "outputs": [],
   "source": [
    "# Assign categorical order to the 'higher_tax' column\n",
    "census['higher_tax'] = pd.Categorical(census['higher_tax'], ['strongly disagree', 'disagree', 'neutral', 'agree', 'strongly agree'], ordered=True)\n",
    "\n",
    "# Get the unique categories of the 'higher_tax' column\n",
    "unique_categories = census['higher_tax'].unique()\n",
    "\n",
    "# Convert the unique categories back to Categorical dtype\n",
    "unique_categories = pd.Categorical(unique_categories, categories=census['higher_tax'].cat.categories, ordered=True)\n",
    "\n",
    "# Create a DataFrame with the unique categories\n",
    "unique_df = pd.DataFrame({'Higher Tax Categories': unique_categories, 'Category Code': unique_categories.codes})\n",
    "\n",
    "\n",
    "# Sort the DataFrame based on the 'Code' column\n",
    "unique_df = unique_df.sort_values('Category Code')\n",
    "\n",
    "# Apply styling to the unique categories DataFrame\n",
    "styled_unique_df = unique_df.style.set_properties(**{'text-align': 'center', 'font-size': '14px', 'font-family': 'Arial'})\\\n",
    "                                  .set_caption('Unique Higher Tax Categories')\\\n",
    "                                  .set_table_styles([{'selector': 'th', 'props': [('background-color', '#66b3ff'), ('color', 'white')]},\n",
    "                                                     {'selector': 'td', 'props': [('border', '1px solid #66b3ff'), ('padding', '5px')]}])\n",
    "display(styled_unique_df)\n",
    "\n",
    "# Convert the 'higher_tax' column to numeric codes\n",
    "census['higher_tax'] = census['higher_tax'].cat.codes\n",
    "\n",
    "# Calculate the median value of the 'higher_tax' column\n",
    "median_value = census['higher_tax'].median()\n",
    "\n",
    "# Create a DataFrame with the median value\n",
    "median_df = pd.DataFrame({'Median Higher Tax': [median_value]})\n",
    "\n",
    "# Apply styling to the median value DataFrame\n",
    "styled_median_df = median_df.style.set_properties(**{'text-align': 'center', 'font-size': '16px', 'font-weight': 'bold', 'font-family': 'Arial'})\\\n",
    "                                  .set_caption('Median Higher Tax Value')\\\n",
    "                                  .set_table_styles([{'selector': 'th', 'props': [('background-color', '#ff9933'), ('color', 'white')]},\n",
    "                                                     {'selector': 'td', 'props': [('border', '1px solid #ff9933'), ('padding', '5px')]}])\n",
    "\n",
    "display(styled_median_df)"
   ]
  },
  {
   "cell_type": "markdown",
   "id": "edf1c87a",
   "metadata": {
    "papermill": {
     "duration": 0.013755,
     "end_time": "2024-04-19T21:20:24.214025",
     "exception": false,
     "start_time": "2024-04-19T21:20:24.200270",
     "status": "completed"
    },
    "tags": []
   },
   "source": [
    "We assign a categorical order to the 'higher_tax' column using pd.Categorical() with the specified order and ordered=True. We print out the unique values in the 'higher_tax' column.\n",
    "\n",
    "Then, we label encode the 'higher_tax' column using census['higher_tax'].cat.codes and print out the median value of the encoded column.\n",
    "\n",
    "# **One-Hot Encoding**"
   ]
  },
  {
   "cell_type": "code",
   "execution_count": null,
   "id": "acffc698",
   "metadata": {
    "execution": {
     "iopub.execute_input": "2024-04-19T21:20:24.242406Z",
     "iopub.status.busy": "2024-04-19T21:20:24.241439Z",
     "iopub.status.idle": "2024-04-19T21:20:24.343040Z",
     "shell.execute_reply": "2024-04-19T21:20:24.341843Z"
    },
    "papermill": {
     "duration": 0.121211,
     "end_time": "2024-04-19T21:20:24.349989",
     "exception": false,
     "start_time": "2024-04-19T21:20:24.228778",
     "status": "completed"
    },
    "tags": []
   },
   "outputs": [],
   "source": [
    "# Apply one-hot encoding to the 'marital_status' column\n",
    "census = pd.get_dummies(census, columns=['marital_status'])\n",
    "\n",
    "# Apply styling to the DataFrame\n",
    "styled_census = census.style.set_properties(**{'text-align': 'center', 'font-size': '12px', 'font-family': 'Arial'})\\\n",
    "                                      .set_caption('First 5 Rows of Census Data')\\\n",
    "                                      .set_table_styles([{'selector': 'th', 'props': [('background-color', '#66b3ff'), ('color', 'white')]},\n",
    "                                                         {'selector': 'td', 'props': [('border', '1px solid #66b3ff'), ('padding', '5px')]}])\\\n",
    "                                      .background_gradient(cmap='YlGnBu')\n",
    "#Display the styled DataFrame\n",
    "display(styled_census)"
   ]
  },
  {
   "cell_type": "markdown",
   "id": "a11cb091",
   "metadata": {
    "papermill": {
     "duration": 0.013262,
     "end_time": "2024-04-19T21:20:24.378271",
     "exception": false,
     "start_time": "2024-04-19T21:20:24.365009",
     "status": "completed"
    },
    "tags": []
   },
   "source": [
    "We apply one-hot encoding (OHE) to the 'marital_status' column using pd.get_dummies(), creating new binary columns for each unique value in the 'marital_status' column.\n",
    "\n",
    "Finally, we print out the first 5 rows of the updated census dataframe to inspect the changes made after applying one-hot encoding."
   ]
  }
 ],
 "metadata": {
  "kaggle": {
   "accelerator": "none",
   "dataSources": [
    {
     "datasetId": 4833311,
     "sourceId": 8167657,
     "sourceType": "datasetVersion"
    }
   ],
   "dockerImageVersionId": 30698,
   "isGpuEnabled": false,
   "isInternetEnabled": true,
   "language": "python",
   "sourceType": "notebook"
  },
  "kernelspec": {
   "display_name": "Python 3",
   "language": "python",
   "name": "python3"
  },
  "language_info": {
   "codemirror_mode": {
    "name": "ipython",
    "version": 3
   },
   "file_extension": ".py",
   "mimetype": "text/x-python",
   "name": "python",
   "nbconvert_exporter": "python",
   "pygments_lexer": "ipython3",
   "version": "3.10.13"
  },
  "papermill": {
   "default_parameters": {},
   "duration": 5.221476,
   "end_time": "2024-04-19T21:20:24.912330",
   "environment_variables": {},
   "exception": null,
   "input_path": "__notebook__.ipynb",
   "output_path": "__notebook__.ipynb",
   "parameters": {},
   "start_time": "2024-04-19T21:20:19.690854",
   "version": "2.5.0"
  }
 },
 "nbformat": 4,
 "nbformat_minor": 5
}
