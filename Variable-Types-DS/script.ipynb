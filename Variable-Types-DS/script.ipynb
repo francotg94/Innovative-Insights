{
 "cells": [
  {
   "cell_type": "markdown",
   "metadata": {},
   "source": [
    "# Exploring Variable Types in Python\n",
    "\n",
    "## Introduction\n",
    "\n",
    "In this Jupyter notebook, we embark on a journey to explore the various variable types available in Python. Understanding variable types is foundational to programming in Python, as it affects how data is stored, manipulated, and presented. Variables can hold values of different types, and the type of variable influences the operations that can be performed on it.\n",
    "\n",
    "## Objectives\n",
    "\n",
    "- Understand the basic data types in Python, including integers, floats, strings, and booleans.\n",
    "- Explore complex data types, such as lists, tuples, dictionaries, and sets, to understand how they can store collections of data.\n",
    "- Examine type conversion techniques and their practical applications.\n",
    "- Discover the nuances of mutable and immutable data types.\n",
    "- Why Variable Types Matter\n",
    "\n",
    "**Variable types are crucial in Python because they:**\n",
    "\n",
    "- Determine the operations that can be performed on the data.\n",
    "- Affect memory usage and performance of your programs.\n",
    "- Influence the bugs and errors you might encounter during development.\n",
    "\n",
    "**Let's dive into the world of Python variables and uncover the versatility and power of different data types.**"
   ]
  },
  {
   "cell_type": "code",
   "execution_count": 1,
   "metadata": {},
   "outputs": [],
   "source": [
    "#import pandas with alias\n",
    "import pandas as pd"
   ]
  },
  {
   "cell_type": "markdown",
   "metadata": {},
   "source": [
    "- The insurance dataframe is composed of simulated insurance data to represent demographics of a small community in the U.S. Call the .head() method on the insurance dataframe and print the output to view the first five rows."
   ]
  },
  {
   "cell_type": "code",
   "execution_count": 2,
   "metadata": {},
   "outputs": [
    {
     "name": "stdout",
     "output_type": "stream",
     "text": [
      "        sex     bmi  children smoker     region      charges\n",
      "age                                                         \n",
      "19   female  27.900         0    yes  southwest  16884.92400\n",
      "18     male  33.770         1     no  southeast   1725.55230\n",
      "28     male  33.000         3     no  southeast   4449.46200\n",
      "33     male  22.705         0     no  northwest  21984.47061\n",
      "32     male  28.880         0     no  northwest   3866.85520\n"
     ]
    }
   ],
   "source": [
    "insurance = pd.read_csv('insurance.csv', index_col=0)\n",
    "print(insurance.head())"
   ]
  },
  {
   "cell_type": "markdown",
   "metadata": {},
   "source": [
    "- Review the dataframe description and values returned by .head() to assess the variable types of each of the variables. This is an important step to understand what preprocessing will be necessary to work with the data."
   ]
  },
  {
   "cell_type": "code",
   "execution_count": null,
   "metadata": {},
   "outputs": [],
   "source": []
  }
 ],
 "metadata": {
  "kernelspec": {
   "display_name": "Python 3",
   "language": "python",
   "name": "python3"
  },
  "language_info": {
   "codemirror_mode": {
    "name": "ipython",
    "version": 3
   },
   "file_extension": ".py",
   "mimetype": "text/x-python",
   "name": "python",
   "nbconvert_exporter": "python",
   "pygments_lexer": "ipython3",
   "version": "3.11.7"
  }
 },
 "nbformat": 4,
 "nbformat_minor": 2
}
