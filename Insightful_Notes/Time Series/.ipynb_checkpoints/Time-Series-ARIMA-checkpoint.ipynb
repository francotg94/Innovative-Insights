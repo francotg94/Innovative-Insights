{
 "cells": [
  {
   "cell_type": "code",
   "execution_count": null,
   "id": "91b624d0-818d-44eb-aa95-214a4532cce8",
   "metadata": {},
   "outputs": [],
   "source": [
    "#Data Import and Cleaning"
   ]
  },
  {
   "cell_type": "code",
   "execution_count": null,
   "id": "24c773e2-5ab8-40e1-b8f3-ec92cf98a6d8",
   "metadata": {},
   "outputs": [],
   "source": [
    "#Data Source - Kaggle - https://www.kaggle.com/datasets/rohanrao/nifty50-stock-market-data\n",
    "import pandas as pd\n",
    "import matplotlib.pyplot as plt \n",
    "from statsmodels.tsa.arima_model import ARMA\n",
    "TempData = pd.read_csv('HCLTECH.csv'"
   ]
  }
 ],
 "metadata": {
  "kernelspec": {
   "display_name": "Python 3 (ipykernel)",
   "language": "python",
   "name": "python3"
  },
  "language_info": {
   "codemirror_mode": {
    "name": "ipython",
    "version": 3
   },
   "file_extension": ".py",
   "mimetype": "text/x-python",
   "name": "python",
   "nbconvert_exporter": "python",
   "pygments_lexer": "ipython3",
   "version": "3.11.7"
  }
 },
 "nbformat": 4,
 "nbformat_minor": 5
}
